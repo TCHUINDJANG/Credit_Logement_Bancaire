{
 "cells": [
  {
   "cell_type": "markdown",
   "id": "467defab",
   "metadata": {},
   "source": [
    "Dans ce projet j'ai realise une application avec streamlit permettant de predire les prix des voitures en une periode donee"
   ]
  },
  {
   "cell_type": "code",
   "execution_count": null,
   "id": "63f001a5",
   "metadata": {},
   "outputs": [],
   "source": [
    "Lien de mon application : "
   ]
  }
 ],
 "metadata": {
  "kernelspec": {
   "display_name": "Python 3 (ipykernel)",
   "language": "python",
   "name": "python3"
  },
  "language_info": {
   "codemirror_mode": {
    "name": "ipython",
    "version": 3
   },
   "file_extension": ".py",
   "mimetype": "text/x-python",
   "name": "python",
   "nbconvert_exporter": "python",
   "pygments_lexer": "ipython3",
   "version": "3.11.5"
  }
 },
 "nbformat": 4,
 "nbformat_minor": 5
}
