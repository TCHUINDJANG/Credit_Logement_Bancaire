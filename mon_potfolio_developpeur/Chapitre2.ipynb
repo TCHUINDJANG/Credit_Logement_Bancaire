{
 "cells": [
  {
   "cell_type": "code",
   "execution_count": 1,
   "id": "15df1447",
   "metadata": {},
   "outputs": [],
   "source": [
    "from warnings import filterwarnings\n",
    "filterwarnings('ignore')\n",
    "from IPython.display import HTML"
   ]
  },
  {
   "cell_type": "markdown",
   "id": "e6b55d88",
   "metadata": {},
   "source": [
    "Realisation 1"
   ]
  },
  {
   "cell_type": "code",
   "execution_count": 2,
   "id": "e9a5a702",
   "metadata": {},
   "outputs": [
    {
     "data": {
      "text/html": [
       "iframe src = \"http://localhost:8889/notebooks/Credit%20Logement%20Bancaire/Credits%20Logements%20Bancaires.ipynb\" width=\"950\" height=\"800 frameborder=0\"><iframe>"
      ],
      "text/plain": [
       "<IPython.core.display.HTML object>"
      ]
     },
     "execution_count": 2,
     "metadata": {},
     "output_type": "execute_result"
    }
   ],
   "source": [
    "HTML('iframe src = \"http://localhost:8889/notebooks/Credit%20Logement%20Bancaire/Credits%20Logements%20Bancaires.ipynb\" width=\"950\" height=\"800 frameborder=0\"><iframe>')"
   ]
  },
  {
   "cell_type": "markdown",
   "id": "f79d17ea",
   "metadata": {},
   "source": [
    "Lien a cliquer pour aller sur l'application\n",
    "Lien de mon application  : http://localhost:8889/notebooks/Credit%20Logement%20Bancaire/Credits%20Logements%20Bancaires.ipynb"
   ]
  },
  {
   "cell_type": "code",
   "execution_count": 3,
   "id": "937f9467",
   "metadata": {},
   "outputs": [
    {
     "data": {
      "text/html": [
       "iframe src = \"http://localhost:8889/notebooks/Credit%20Logement%20Bancaire/Credits%20Logements%20Bancaires.ipynb\" width=\"950\" height=\"800 frameborder=0\"><iframe>"
      ],
      "text/plain": [
       "<IPython.core.display.HTML object>"
      ]
     },
     "execution_count": 3,
     "metadata": {},
     "output_type": "execute_result"
    }
   ],
   "source": [
    "#realisation n2\n",
    "HTML('iframe src = \"http://localhost:8889/notebooks/Credit%20Logement%20Bancaire/Credits%20Logements%20Bancaires.ipynb\" width=\"950\" height=\"800 frameborder=0\"><iframe>')"
   ]
  },
  {
   "cell_type": "code",
   "execution_count": null,
   "id": "9073f756",
   "metadata": {},
   "outputs": [],
   "source": []
  }
 ],
 "metadata": {
  "kernelspec": {
   "display_name": "Python 3 (ipykernel)",
   "language": "python",
   "name": "python3"
  },
  "language_info": {
   "codemirror_mode": {
    "name": "ipython",
    "version": 3
   },
   "file_extension": ".py",
   "mimetype": "text/x-python",
   "name": "python",
   "nbconvert_exporter": "python",
   "pygments_lexer": "ipython3",
   "version": "3.11.5"
  }
 },
 "nbformat": 4,
 "nbformat_minor": 5
}
